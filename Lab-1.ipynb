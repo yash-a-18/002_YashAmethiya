{
 "metadata": {
  "language_info": {
   "codemirror_mode": {
    "name": "ipython",
    "version": 3
   },
   "file_extension": ".py",
   "mimetype": "text/x-python",
   "name": "python",
   "nbconvert_exporter": "python",
   "pygments_lexer": "ipython3",
   "version": "3.8.8"
  },
  "orig_nbformat": 4,
  "kernelspec": {
   "name": "python3",
   "display_name": "Python 3.8.8 64-bit ('MFE': conda)"
  },
  "interpreter": {
   "hash": "6cd9a464138fc6ccabc335c6117ac38c085d16cbe40298286e63ec121b3c4a6a"
  }
 },
 "nbformat": 4,
 "nbformat_minor": 2,
 "cells": [
  {
   "cell_type": "code",
   "execution_count": 2,
   "metadata": {},
   "outputs": [],
   "source": [
    "import nltk, scipy, numpy, matplotlib, pandas"
   ]
  },
  {
   "source": [
    "`nltk` - Natural language tool kit to process text data\n",
    "\n",
    "`SciPy` - used to provide *scientific calculation* we need for ML application\n",
    "\n",
    "`NumPy` - provides *numerical calculation*/*Linear Algebra*\n",
    "\n",
    "`Matplotlib` - for *graph representation*"
   ],
   "cell_type": "markdown",
   "metadata": {}
  },
  {
   "cell_type": "code",
   "execution_count": null,
   "metadata": {},
   "outputs": [],
   "source": []
  }
 ]
}