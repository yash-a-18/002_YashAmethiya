{
 "cells": [
  {
   "cell_type": "markdown",
   "source": [
    "## Write a python program to perform K-Means clustering on Breast Cancer Data"
   ],
   "metadata": {}
  },
  {
   "cell_type": "code",
   "execution_count": 1,
   "source": [
    "import numpy as np \r\n",
    "import pandas as pd \r\n",
    "from sklearn import datasets\r\n",
    "from sklearn.cluster import KMeans\r\n",
    "import matplotlib.pyplot as plt"
   ],
   "outputs": [],
   "metadata": {}
  },
  {
   "cell_type": "code",
   "execution_count": 2,
   "source": [
    "dataset=datasets.load_breast_cancer()\r\n",
    "dataset\r\n",
    "\r\n",
    "print(dataset.data.shape)\r\n",
    "print(dataset.target.shape)"
   ],
   "outputs": [
    {
     "output_type": "stream",
     "name": "stdout",
     "text": [
      "(569, 30)\n",
      "(569,)\n"
     ]
    }
   ],
   "metadata": {}
  },
  {
   "cell_type": "code",
   "execution_count": 8,
   "source": [
    "print(dataset.feature_names)"
   ],
   "outputs": [
    {
     "output_type": "stream",
     "name": "stdout",
     "text": [
      "['mean radius' 'mean texture' 'mean perimeter' 'mean area'\n",
      " 'mean smoothness' 'mean compactness' 'mean concavity'\n",
      " 'mean concave points' 'mean symmetry' 'mean fractal dimension'\n",
      " 'radius error' 'texture error' 'perimeter error' 'area error'\n",
      " 'smoothness error' 'compactness error' 'concavity error'\n",
      " 'concave points error' 'symmetry error' 'fractal dimension error'\n",
      " 'worst radius' 'worst texture' 'worst perimeter' 'worst area'\n",
      " 'worst smoothness' 'worst compactness' 'worst concavity'\n",
      " 'worst concave points' 'worst symmetry' 'worst fractal dimension']\n"
     ]
    }
   ],
   "metadata": {}
  },
  {
   "cell_type": "code",
   "execution_count": 12,
   "source": [
    "print(dataset.target_names)"
   ],
   "outputs": [
    {
     "output_type": "stream",
     "name": "stdout",
     "text": [
      "['malignant' 'benign']\n"
     ]
    }
   ],
   "metadata": {}
  },
  {
   "cell_type": "code",
   "execution_count": 13,
   "source": [
    "plt.scatter(dataset.data[:, 0], dataset.target)\r\n",
    "plt.xlabel('Features')\r\n",
    "plt.ylabel('Type of cancer') # 1-malignant # 0-benign\r\n",
    "plt.show()"
   ],
   "outputs": [
    {
     "output_type": "display_data",
     "data": {
      "image/png": "[encoded data removed]",
      "text/plain": [
       "<Figure size 432x288 with 1 Axes>"
      ]
     },
     "metadata": {
      "needs_background": "light"
     }
    }
   ],
   "metadata": {}
  },
  {
   "cell_type": "code",
   "execution_count": 17,
   "source": [
    "kmeans = KMeans(n_clusters=10, random_state=2)\r\n",
    "prediction = kmeans.fit_predict(dataset.data)\r\n",
    "print(prediction)\r\n",
    "\r\n",
    "kmeans.cluster_centers_.shape\r\n",
    "print(kmeans.cluster_centers_)"
   ],
   "outputs": [
    {
     "output_type": "stream",
     "name": "stdout",
     "text": [
      "[0 0 2 1 2 7 2 7 7 7 4 9 9 4 7 4 4 9 3 7 1 5 4 3 0 9 7 9 9 9 2 7 9 2 9 9 7\n",
      " 1 7 7 7 1 2 7 7 2 5 7 1 7 1 7 1 9 4 1 0 4 1 5 5 5 4 5 7 4 5 1 5 1 0 5 2 7\n",
      " 1 9 1 2 2 1 1 1 3 9 1 2 7 2 1 7 7 7 7 7 4 2 1 5 1 7 7 5 1 5 5 7 1 1 3 1 5\n",
      " 1 7 5 5 1 5 4 9 9 1 2 3 7 1 7 7 2 7 2 1 4 9 4 2 1 1 1 4 5 5 9 1 1 5 1 1 7\n",
      " 7 7 1 5 5 5 7 1 9 4 1 1 1 2 0 1 3 7 5 9 2 7 1 4 4 5 5 5 5 4 1 1 8 0 9 1 4\n",
      " 5 9 1 1 1 7 1 5 7 7 1 7 9 2 4 1 9 0 4 1 4 5 9 1 4 2 1 8 4 7 7 1 5 0 3 7 7\n",
      " 5 4 7 7 5 7 1 7 9 1 1 0 5 7 8 2 7 9 7 1 1 7 2 5 1 1 5 1 0 1 0 9 0 7 0 4 9\n",
      " 4 0 9 9 4 9 8 5 7 1 5 7 1 3 5 9 1 1 9 7 7 2 1 2 4 1 1 1 1 5 1 7 7 1 1 1 7\n",
      " 5 1 7 5 0 1 2 5 1 1 1 5 7 7 1 7 1 1 5 1 1 2 5 1 5 2 1 0 1 1 7 1 4 4 4 1 5\n",
      " 1 1 9 1 0 5 8 7 5 5 2 1 5 1 7 1 1 1 4 8 4 1 1 1 7 5 5 1 1 1 4 7 0 2 1 8 3\n",
      " 9 7 2 0 7 4 5 7 7 1 1 5 1 1 1 7 1 7 1 9 5 5 9 0 1 7 7 1 1 1 9 1 1 1 1 1 4\n",
      " 1 9 1 1 1 5 7 4 1 5 2 1 1 1 7 1 7 5 5 5 1 5 1 7 1 2 2 7 7 1 7 7 7 1 9 7 5\n",
      " 9 1 9 7 7 0 1 2 1 7 1 7 1 1 1 5 2 6 7 1 7 7 7 5 9 1 5 1 4 1 5 1 7 7 1 4 1\n",
      " 7 7 7 4 1 7 2 1 4 1 9 9 1 1 7 1 1 2 2 7 7 1 8 5 5 1 5 4 4 1 7 7 7 4 1 2 2\n",
      " 1 1 5 3 5 7 5 5 7 1 7 1 1 1 7 2 5 0 7 1 5 5 1 7 7 1 7 7 5 5 5 1 5 5 1 5 1\n",
      " 5 5 5 7 1 7 5 4 0 0 2 4 0 5]\n",
      "[[2.01415385e+01 2.19288462e+01 1.33696154e+02 1.26529231e+03\n",
      "  1.04046538e-01 1.62936154e-01 2.03368846e-01 1.12997308e-01\n",
      "  1.95876923e-01 6.17669231e-02 7.43607692e-01 1.04544615e+00\n",
      "  5.21096154e+00 9.61280769e+01 6.07065385e-03 3.14061538e-02\n",
      "  4.37934615e-02 1.57963462e-02 1.78696154e-02 3.89538462e-03\n",
      "  2.53707692e+01 2.92965385e+01 1.69553846e+02 1.97088462e+03\n",
      "  1.45473077e-01 4.07311538e-01 5.26211538e-01 2.18661538e-01\n",
      "  3.24896154e-01 9.18253846e-02]\n",
      " [1.21455932e+01 1.81380226e+01 7.80731638e+01 4.54409605e+02\n",
      "  9.29466102e-02 7.94957062e-02 4.50697271e-02 2.58724633e-02\n",
      "  1.74355367e-01 6.23671751e-02 2.76933333e-01 1.19986271e+00\n",
      "  1.96683559e+00 2.05246328e+01 6.80219209e-03 2.03920169e-02\n",
      "  2.39684441e-02 9.61710734e-03 2.03990395e-02 3.30623446e-03\n",
      "  1.34072316e+01 2.42203955e+01 8.71858757e+01 5.49828814e+02\n",
      "  1.26831299e-01 1.92067401e-01 1.75194616e-01 7.76532260e-02\n",
      "  2.78178531e-01 7.95596045e-02]\n",
      " [1.92090698e+01 2.15458140e+01 1.26769767e+02 1.14881395e+03\n",
      "  1.00034186e-01 1.44209302e-01 1.69807674e-01 9.66286047e-02\n",
      "  1.93376744e-01 6.01253488e-02 7.04181395e-01 1.24250000e+00\n",
      "  4.87095349e+00 8.48990698e+01 6.83269767e-03 3.25990698e-02\n",
      "  4.41495349e-02 1.60667674e-02 2.23200000e-02 3.92002326e-03\n",
      "  2.30793023e+01 2.85583721e+01 1.53660465e+02 1.62472093e+03\n",
      "  1.38988372e-01 3.51204651e-01 4.43309302e-01 1.84106977e-01\n",
      "  3.17562791e-01 8.54227907e-02]\n",
      " [2.23900000e+01 2.28970000e+01 1.49780000e+02 1.55350000e+03\n",
      "  1.04809000e-01 1.86450000e-01 2.38690000e-01 1.31869000e-01\n",
      "  1.91560000e-01 6.13100000e-02 9.64110000e-01 1.34124000e+00\n",
      "  7.02100000e+00 1.36404000e+02 7.43360000e-03 4.35000000e-02\n",
      "  5.29780000e-02 1.62210000e-02 1.97720000e-02 4.39550000e-03\n",
      "  2.82590000e+01 3.06630000e+01 1.93520000e+02 2.41410000e+03\n",
      "  1.44270000e-01 4.35450000e-01 5.35780000e-01 2.31410000e-01\n",
      "  3.02550000e-01 8.73070000e-02]\n",
      " [1.55076596e+01 2.02889362e+01 1.01703617e+02 7.45085106e+02\n",
      "  1.01014255e-01 1.26042553e-01 1.25749787e-01 6.61974468e-02\n",
      "  1.85621277e-01 6.26174468e-02 3.96329787e-01 1.04854043e+00\n",
      "  2.78789362e+00 3.79165957e+01 6.79355319e-03 2.84824255e-02\n",
      "  3.86385106e-02 1.36298936e-02 1.91948085e-02 3.68908511e-03\n",
      "  1.80527660e+01 2.75795745e+01 1.19876596e+02 9.99189362e+02\n",
      "  1.42285957e-01 3.36148085e-01 3.97378723e-01 1.52794468e-01\n",
      "  3.14157447e-01 8.93785106e-02]\n",
      " [9.87515385e+00 1.78310989e+01 6.31275824e+01 2.99732967e+02\n",
      "  9.64635165e-02 8.09469231e-02 4.46973846e-02 1.89206154e-02\n",
      "  1.83812088e-01 6.83807692e-02 2.95191209e-01 1.51460549e+00\n",
      "  2.02103187e+00 1.79611868e+01 9.95848352e-03 2.56543407e-02\n",
      "  3.31990110e-02 1.02651538e-02 2.54141758e-02 4.97217582e-03\n",
      "  1.08238352e+01 2.29446154e+01 6.97957143e+01 3.58796703e+02\n",
      "  1.31465934e-01 1.64161758e-01 1.40192637e-01 5.34132967e-02\n",
      "  2.73173626e-01 8.52007692e-02]\n",
      " [2.74200000e+01 2.62700000e+01 1.86900000e+02 2.50100000e+03\n",
      "  1.08400000e-01 1.98800000e-01 3.63500000e-01 1.68900000e-01\n",
      "  2.06100000e-01 5.62300000e-02 2.54700000e+00 1.30600000e+00\n",
      "  1.86500000e+01 5.42200000e+02 7.65000000e-03 5.37400000e-02\n",
      "  8.05500000e-02 2.59800000e-02 1.69700000e-02 4.55800000e-03\n",
      "  3.60400000e+01 3.13700000e+01 2.51200000e+02 4.25400000e+03\n",
      "  1.35700000e-01 4.25600000e-01 6.83300000e-01 2.62500000e-01\n",
      "  2.64100000e-01 7.42700000e-02]\n",
      " [1.39659504e+01 1.90276860e+01 9.06880165e+01 6.02476860e+02\n",
      "  9.40809091e-02 1.01344711e-01 7.52669174e-02 4.20422479e-02\n",
      "  1.75569421e-01 6.17116529e-02 3.12926446e-01 1.07821405e+00\n",
      "  2.26504876e+00 2.71022314e+01 5.80057851e-03 2.43026281e-02\n",
      "  2.83313223e-02 1.12062562e-02 1.78177851e-02 3.50322149e-03\n",
      "  1.57508264e+01 2.55277686e+01 1.04067107e+02 7.61435537e+02\n",
      "  1.28438926e-01 2.66982975e-01 2.69127851e-01 1.14544628e-01\n",
      "  2.85159504e-01 8.48681818e-02]\n",
      " [2.41637500e+01 2.21550000e+01 1.60262500e+02 1.85287500e+03\n",
      "  1.02805000e-01 1.50402500e-01 2.23862500e-01 1.34338750e-01\n",
      "  1.76262500e-01 5.68037500e-02 1.30511250e+00 1.13863750e+00\n",
      "  9.23100000e+00 2.16412500e+02 6.63025000e-03 2.54150000e-02\n",
      "  3.75725000e-02 1.43175000e-02 2.07412500e-02 2.97225000e-03\n",
      "  3.12587500e+01 2.97012500e+01 2.09000000e+02 3.01950000e+03\n",
      "  1.38787500e-01 3.27350000e-01 4.46600000e-01 2.18300000e-01\n",
      "  2.77200000e-01 7.60325000e-02]\n",
      " [1.72662222e+01 2.12826667e+01 1.13766667e+02 9.30031111e+02\n",
      "  9.96044444e-02 1.34278667e-01 1.40752222e-01 8.17808889e-02\n",
      "  1.90786667e-01 6.09995556e-02 5.76202222e-01 1.28895333e+00\n",
      "  4.13328889e+00 6.30108889e+01 6.40597778e-03 3.02990444e-02\n",
      "  3.75984444e-02 1.49950444e-02 2.00477778e-02 4.04933333e-03\n",
      "  2.05342222e+01 2.85542222e+01 1.36617778e+02 1.29620000e+03\n",
      "  1.38425333e-01 3.23276889e-01 3.89095556e-01 1.69770444e-01\n",
      "  3.12826667e-01 8.54171111e-02]]\n"
     ]
    }
   ],
   "metadata": {}
  },
  {
   "cell_type": "code",
   "execution_count": 18,
   "source": [
    "plt.scatter(dataset.data[:, 0], dataset.target)\r\n",
    "plt.scatter(kmeans.cluster_centers_[:, 0], kmeans.cluster_centers_[:, 1],c='red', marker='x')\r\n",
    "plt.title('Data points and cluster centroids')\r\n",
    "plt.show()"
   ],
   "outputs": [
    {
     "output_type": "display_data",
     "data": {
      "image/png": "[encoded data removed]",
      "text/plain": [
       "<Figure size 432x288 with 1 Axes>"
      ]
     },
     "metadata": {
      "needs_background": "light"
     }
    }
   ],
   "metadata": {}
  },
  {
   "cell_type": "code",
   "execution_count": 20,
   "source": [
    "import numpy as np\r\n",
    "from scipy.stats import mode\r\n",
    "labels = np.zeros_like(prediction)\r\n",
    "for i in range(10):\r\n",
    "  mask = (prediction == i)\r\n",
    "  labels[mask] = mode(dataset.target[mask])[0]"
   ],
   "outputs": [],
   "metadata": {}
  },
  {
   "cell_type": "code",
   "execution_count": 21,
   "source": [
    "from sklearn.metrics import accuracy_score\r\n",
    "accuracy_score(dataset.target, labels)"
   ],
   "outputs": [
    {
     "output_type": "execute_result",
     "data": {
      "text/plain": [
       "0.9086115992970123"
      ]
     },
     "metadata": {},
     "execution_count": 21
    }
   ],
   "metadata": {}
  },
  {
   "cell_type": "code",
   "execution_count": 22,
   "source": [
    "from sklearn.metrics import confusion_matrix\r\n",
    "import seaborn as sns\r\n",
    "mat = confusion_matrix(dataset.target, labels)\r\n",
    "ax = sns.heatmap(mat.T, square=True, annot=True, fmt='d', cbar=False,xticklabels=dataset.target_names,yticklabels=dataset.target_names)\r\n",
    "\r\n",
    "#ax.set_ylim(10,10)\r\n",
    "plt.xlabel('true label')\r\n",
    "plt.ylabel('predicted label')"
   ],
   "outputs": [
    {
     "output_type": "display_data",
     "data": {
      "image/png": "[encoded data removed]",
      "text/plain": [
       "<Figure size 432x288 with 1 Axes>"
      ]
     },
     "metadata": {
      "needs_background": "light"
     }
    }
   ],
   "metadata": {}
  },
  {
   "cell_type": "code",
   "execution_count": null,
   "source": [],
   "outputs": [],
   "metadata": {}
  }
 ],
 "metadata": {
  "orig_nbformat": 4,
  "language_info": {
   "name": "python",
   "version": "3.8.8",
   "mimetype": "text/x-python",
   "codemirror_mode": {
    "name": "ipython",
    "version": 3
   },
   "pygments_lexer": "ipython3",
   "nbconvert_exporter": "python",
   "file_extension": ".py"
  },
  "kernelspec": {
   "name": "python3",
   "display_name": "Python 3.8.8 64-bit ('MFE': conda)"
  },
  "interpreter": {
   "hash": "6cd9a464138fc6ccabc335c6117ac38c085d16cbe40298286e63ec121b3c4a6a"
  }
 },
 "nbformat": 4,
 "nbformat_minor": 2
}