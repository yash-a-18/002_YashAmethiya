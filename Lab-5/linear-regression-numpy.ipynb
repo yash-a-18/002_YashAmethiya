{
 "cells": [
  {
   "cell_type": "code",
   "execution_count": 1,
   "source": [
    "import numpy as np"
   ],
   "outputs": [],
   "metadata": {}
  },
  {
   "cell_type": "markdown",
   "source": [
    "## Training Data"
   ],
   "metadata": {}
  },
  {
   "cell_type": "code",
   "execution_count": 3,
   "source": [
    "# Input (temp, rainfall, humidity)\r\n",
    "inputs = np.array([[73, 67, 43], [91, 88, 64], [87, 134, 58], [102, 43, 37], [69, 96, 70], [73, 67, 43], [91, 88, 64], [87, 134, 58], [102, 43, 37], [69, 96, 70], [73, 67, 43], [91, 88, 64], [87, 134, 58], [102, 43, 37], [69, 96, 70]], dtype='float32')\r\n",
    "# Targets (apples, oranges)\r\n",
    "targets = np.array([[56, 70], [81, 101], [119, 133], [22, 37], [103, 119], \r\n",
    "                    [56, 70], [81, 101], [119, 133], [22, 37], [103, 119], \r\n",
    "                    [56, 70], [81, 101], [119, 133], [22, 37], [103, 119]], dtype='float32')\r\n",
    "\r\n",
    "x_shape = inputs.shape"
   ],
   "outputs": [],
   "metadata": {}
  },
  {
   "cell_type": "code",
   "execution_count": 4,
   "source": [
    "# weights and biases\r\n",
    "weights = np.random.rand(2,3)\r\n",
    "biases = np.random.rand(15,2)\r\n",
    "print(\"Weights:\",weights,sep='\\n')\r\n",
    "print(\"Biases:\",biases,sep=\"\\n\")"
   ],
   "outputs": [
    {
     "output_type": "stream",
     "name": "stdout",
     "text": [
      "Weights:\n",
      "[[0.04547965 0.43656896 0.22192613]\n",
      " [0.14072419 0.68398837 0.13658688]]\n",
      "Biases:\n",
      "[[0.86878022 0.32465477]\n",
      " [0.68433965 0.20083081]\n",
      " [0.56334415 0.02034368]\n",
      " [0.86998893 0.58299082]\n",
      " [0.53410171 0.35914525]\n",
      " [0.87242058 0.82409858]\n",
      " [0.28354012 0.72886816]\n",
      " [0.14424472 0.77529036]\n",
      " [0.46537306 0.66316169]\n",
      " [0.90669345 0.49329725]\n",
      " [0.62717471 0.22734118]\n",
      " [0.3526427  0.24143437]\n",
      " [0.95905836 0.63787986]\n",
      " [0.58680335 0.90606614]\n",
      " [0.15558753 0.42304183]]\n"
     ]
    }
   ],
   "metadata": {}
  },
  {
   "cell_type": "code",
   "execution_count": 5,
   "source": [
    "# Define the model\r\n",
    "def model(x):\r\n",
    "    return x @ np.transpose(weights) + biases"
   ],
   "outputs": [],
   "metadata": {}
  },
  {
   "cell_type": "code",
   "execution_count": 6,
   "source": [
    "# Generate predictions\r\n",
    "preds = model(inputs)"
   ],
   "outputs": [],
   "metadata": {}
  },
  {
   "cell_type": "code",
   "execution_count": 7,
   "source": [
    "# Compare with targets\r\n",
    "print(\"Predictions : \", preds, sep=\"\\n\")\r\n",
    "print(\"Targets : \",targets, sep=\"\\n\")"
   ],
   "outputs": [
    {
     "output_type": "stream",
     "name": "stdout",
     "text": [
      "Predictions : \n",
      "[[ 42.98173853  62.29797692]\n",
      " [ 57.44432851  81.93926852]\n",
      " [ 75.89202965 111.83982836]\n",
      " [ 32.49264543  49.40207226]\n",
      " [ 61.11764663  85.29307906]\n",
      " [ 42.98537889  62.79742073]\n",
      " [ 57.04352897  82.46730587]\n",
      " [ 75.47293022 112.59477503]\n",
      " [ 32.08802956  49.48224313]\n",
      " [ 61.49023836  85.42723106]\n",
      " [ 42.74013302  62.20066333]\n",
      " [ 57.11263155  81.97987207]\n",
      " [ 76.28774386 112.45736454]\n",
      " [ 32.20945985  49.72514758]\n",
      " [ 60.73913245  85.35697564]]\n",
      "Targets : \n",
      "[[ 56.  70.]\n",
      " [ 81. 101.]\n",
      " [119. 133.]\n",
      " [ 22.  37.]\n",
      " [103. 119.]\n",
      " [ 56.  70.]\n",
      " [ 81. 101.]\n",
      " [119. 133.]\n",
      " [ 22.  37.]\n",
      " [103. 119.]\n",
      " [ 56.  70.]\n",
      " [ 81. 101.]\n",
      " [119. 133.]\n",
      " [ 22.  37.]\n",
      " [103. 119.]]\n"
     ]
    }
   ],
   "metadata": {}
  },
  {
   "cell_type": "code",
   "execution_count": 8,
   "source": [
    "# MSE loss\r\n",
    "def mse(t1, t2):\r\n",
    "    diff = t1 - t2\r\n",
    "    return np.sum(diff * diff) / len(diff)"
   ],
   "outputs": [],
   "metadata": {}
  },
  {
   "cell_type": "code",
   "execution_count": 9,
   "source": [
    "# Compute loss\r\n",
    "loss = mse(preds, targets)\r\n",
    "print(loss)"
   ],
   "outputs": [
    {
     "output_type": "stream",
     "name": "stdout",
     "text": [
      "1317.597107717867\n"
     ]
    }
   ],
   "metadata": {}
  },
  {
   "cell_type": "code",
   "execution_count": 10,
   "source": [
    "# compute gradients\r\n",
    "biases_grad = (preds-targets)*2/x_shape[0]\r\n",
    "weights_grad = (np.matmul(np.transpose((preds-targets)),inputs))*2/x_shape[0]\r\n",
    "\r\n",
    "print(\"weights_grad:\",weights_grad, sep=\"\\n\")\r\n",
    "print(\"biases_grad:\",biases_grad, sep=\"\\n\")"
   ],
   "outputs": [
    {
     "output_type": "stream",
     "name": "stdout",
     "text": [
      "weights_grad:\n",
      "[[-3486.45373795 -4931.60258853 -2855.70318763]\n",
      " [-2045.34956948 -3052.93421113 -1849.97900428]]\n",
      "biases_grad:\n",
      "[[-1.7357682  -1.02693641]\n",
      " [-3.1407562  -2.54143086]\n",
      " [-5.74772938 -2.82135622]\n",
      " [ 1.39901939  1.65360964]\n",
      " [-5.58431378 -4.49425613]\n",
      " [-1.73528282 -0.9603439 ]\n",
      " [-3.19419614 -2.47102588]\n",
      " [-5.8036093  -2.72069666]\n",
      " [ 1.34507061  1.66429908]\n",
      " [-5.53463489 -4.47636919]\n",
      " [-1.76798226 -1.03991156]\n",
      " [-3.18498246 -2.53601706]\n",
      " [-5.69496749 -2.73901806]\n",
      " [ 1.36126131  1.69668634]\n",
      " [-5.63478234 -4.48573658]]\n"
     ]
    }
   ],
   "metadata": {}
  },
  {
   "cell_type": "markdown",
   "source": [
    "## Adjust weights"
   ],
   "metadata": {}
  },
  {
   "cell_type": "code",
   "execution_count": 11,
   "source": [
    "# Adjust weights\r\n",
    "weights -= weights_grad * 1e-5\r\n",
    "biases -= biases_grad * 1e-5"
   ],
   "outputs": [],
   "metadata": {}
  },
  {
   "cell_type": "code",
   "execution_count": 12,
   "source": [
    "print(\"Weights:\",weights,sep='\\n')\r\n",
    "print(\"Biases:\",biases,sep=\"\\n\")"
   ],
   "outputs": [
    {
     "output_type": "stream",
     "name": "stdout",
     "text": [
      "Weights:\n",
      "[[0.08034419 0.48588498 0.25048316]\n",
      " [0.16117768 0.71451771 0.15508667]]\n",
      "Biases:\n",
      "[[0.86879758 0.32466504]\n",
      " [0.68437106 0.20085623]\n",
      " [0.56340163 0.0203719 ]\n",
      " [0.86997494 0.58297428]\n",
      " [0.53415756 0.35919019]\n",
      " [0.87243793 0.82410819]\n",
      " [0.28357206 0.72889287]\n",
      " [0.14430276 0.77531757]\n",
      " [0.46535961 0.66314504]\n",
      " [0.90674879 0.49334202]\n",
      " [0.62719239 0.22735158]\n",
      " [0.35267455 0.24145973]\n",
      " [0.95911531 0.63790725]\n",
      " [0.58678974 0.90604917]\n",
      " [0.15564388 0.42308669]]\n"
     ]
    }
   ],
   "metadata": {}
  },
  {
   "cell_type": "code",
   "execution_count": 13,
   "source": [
    "# Calculate loss\r\n",
    "preds = model(inputs)\r\n",
    "loss = mse(preds, targets)\r\n",
    "print(loss)"
   ],
   "outputs": [
    {
     "output_type": "stream",
     "name": "stdout",
     "text": [
      "810.4459396670554\n"
     ]
    }
   ],
   "metadata": {}
  },
  {
   "cell_type": "code",
   "execution_count": 14,
   "source": [
    "# repeating same for 200 times\r\n",
    "for i in range(200):\r\n",
    "    preds = model(inputs)\r\n",
    "    loss = mse(preds, targets)\r\n",
    "    \r\n",
    "    biases_grad = ((((inputs@np.transpose(weights))+biases)-targets))*2/x_shape[0]\r\n",
    "    weights_grad = (np.matmul(np.transpose((((inputs@np.transpose(weights))+biases)-targets)),inputs))*2/x_shape[0]\r\n",
    "\r\n",
    "    weights -= weights_grad * 1e-5\r\n",
    "    biases -= biases_grad * 1e-5"
   ],
   "outputs": [],
   "metadata": {}
  },
  {
   "cell_type": "code",
   "execution_count": 15,
   "source": [
    "# Calculate loss\r\n",
    "preds = model(inputs)\r\n",
    "loss = mse(preds, targets)\r\n",
    "print(loss)"
   ],
   "outputs": [
    {
     "output_type": "stream",
     "name": "stdout",
     "text": [
      "35.37399546040093\n"
     ]
    }
   ],
   "metadata": {}
  },
  {
   "cell_type": "code",
   "execution_count": 16,
   "source": [
    "# Print predictions\r\n",
    "print(preds)"
   ],
   "outputs": [
    {
     "output_type": "stream",
     "name": "stdout",
     "text": [
      "[[ 58.13701474  70.91105317]\n",
      " [ 80.81951415  96.99684654]\n",
      " [120.98104011 138.98275997]\n",
      " [ 24.57643434  40.67620639]\n",
      " [ 97.52366869 111.13169387]\n",
      " [ 58.14065412  71.41036315]\n",
      " [ 80.41882202  97.5247424 ]\n",
      " [120.56205298 139.73750434]\n",
      " [ 24.17192689  40.75635577]\n",
      " [ 97.89616058 111.26580993]\n",
      " [ 57.89547397  70.81376566]\n",
      " [ 80.48790608  97.03743922]\n",
      " [121.37664828 139.60013067]\n",
      " [ 24.29332465  40.99919514]\n",
      " [ 97.14525594 111.19557333]]\n"
     ]
    }
   ],
   "metadata": {}
  },
  {
   "cell_type": "code",
   "execution_count": 17,
   "source": [
    "# Print targets\r\n",
    "print(targets)"
   ],
   "outputs": [
    {
     "output_type": "stream",
     "name": "stdout",
     "text": [
      "[[ 56.  70.]\n",
      " [ 81. 101.]\n",
      " [119. 133.]\n",
      " [ 22.  37.]\n",
      " [103. 119.]\n",
      " [ 56.  70.]\n",
      " [ 81. 101.]\n",
      " [119. 133.]\n",
      " [ 22.  37.]\n",
      " [103. 119.]\n",
      " [ 56.  70.]\n",
      " [ 81. 101.]\n",
      " [119. 133.]\n",
      " [ 22.  37.]\n",
      " [103. 119.]]\n"
     ]
    }
   ],
   "metadata": {}
  }
 ],
 "metadata": {
  "orig_nbformat": 4,
  "language_info": {
   "name": "python",
   "version": "3.8.8",
   "mimetype": "text/x-python",
   "codemirror_mode": {
    "name": "ipython",
    "version": 3
   },
   "pygments_lexer": "ipython3",
   "nbconvert_exporter": "python",
   "file_extension": ".py"
  },
  "kernelspec": {
   "name": "python3",
   "display_name": "Python 3.8.8 64-bit ('MFE': conda)"
  },
  "interpreter": {
   "hash": "6cd9a464138fc6ccabc335c6117ac38c085d16cbe40298286e63ec121b3c4a6a"
  }
 },
 "nbformat": 4,
 "nbformat_minor": 2
}