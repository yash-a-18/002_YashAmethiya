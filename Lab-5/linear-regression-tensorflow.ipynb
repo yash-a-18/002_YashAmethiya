{
 "cells": [
  {
   "cell_type": "markdown",
   "source": [
    "## Try Linear regression on same prediction data using Tensorflow"
   ],
   "metadata": {}
  },
  {
   "cell_type": "code",
   "execution_count": 2,
   "source": [
    "import numpy as np\r\n",
    "import pandas as pd \r\n",
    "import matplotlib.pyplot as plt\r\n",
    "%matplotlib inline\r\n",
    "import tensorflow as tf\r\n",
    "\r\n",
    "from tensorflow import keras\r\n",
    "from tensorflow.keras import layers\r\n",
    "from tensorflow.keras.layers.experimental import preprocessing\r\n",
    "\r\n",
    "print(tf.__version__)"
   ],
   "outputs": [
    {
     "output_type": "stream",
     "name": "stdout",
     "text": [
      "2.3.0\n"
     ]
    }
   ],
   "metadata": {}
  },
  {
   "cell_type": "code",
   "execution_count": 3,
   "source": [
    "# Input (temp, rainfall, humidity)\r\n",
    "inputs = np.array([[73, 67, 43], [91, 88, 64], [87, 134, 58], [102, 43, 37], [69, 96, 70], [73, 67, 43], [91, 88, 64], [87, 134, 58], [102, 43, 37], [69, 96, 70], [73, 67, 43], [91, 88, 64], [87, 134, 58], [102, 43, 37], [69, 96, 70]], dtype='float32')\r\n",
    "# Targets (apples)\r\n",
    "targets = np.array([[56], [81], [119], [22], [103], \r\n",
    "                    [56], [81], [119], [22], [103], \r\n",
    "                    [56], [81], [119], [22], [103]], dtype='float32')"
   ],
   "outputs": [],
   "metadata": {}
  },
  {
   "cell_type": "code",
   "execution_count": 4,
   "source": [
    "dataset = pd.DataFrame(inputs, columns = ['temp','rainfall','humidity'])\r\n",
    "features = dataset.copy()\r\n",
    "train_features = features[:10]\r\n",
    "test_features = features[10:] \r\n",
    "\r\n",
    "dataset_targets = pd.DataFrame(targets, columns = ['apples'])\r\n",
    "label = dataset_targets.copy()\r\n",
    "train_label =  label[:10]\r\n",
    "test_label = label[10:]"
   ],
   "outputs": [],
   "metadata": {}
  },
  {
   "cell_type": "code",
   "execution_count": 5,
   "source": [
    "#print(train_data)\r\n",
    "print(train_features)\r\n",
    "print(train_label)"
   ],
   "outputs": [
    {
     "output_type": "stream",
     "name": "stdout",
     "text": [
      "    temp  rainfall  humidity\n",
      "0   73.0      67.0      43.0\n",
      "1   91.0      88.0      64.0\n",
      "2   87.0     134.0      58.0\n",
      "3  102.0      43.0      37.0\n",
      "4   69.0      96.0      70.0\n",
      "5   73.0      67.0      43.0\n",
      "6   91.0      88.0      64.0\n",
      "7   87.0     134.0      58.0\n",
      "8  102.0      43.0      37.0\n",
      "9   69.0      96.0      70.0\n",
      "   apples\n",
      "0    56.0\n",
      "1    81.0\n",
      "2   119.0\n",
      "3    22.0\n",
      "4   103.0\n",
      "5    56.0\n",
      "6    81.0\n",
      "7   119.0\n",
      "8    22.0\n",
      "9   103.0\n"
     ]
    }
   ],
   "metadata": {}
  },
  {
   "cell_type": "code",
   "execution_count": 6,
   "source": [
    "train_features.describe()"
   ],
   "outputs": [
    {
     "output_type": "execute_result",
     "data": {
      "text/html": [
       "<div>\n",
       "<style scoped>\n",
       "    .dataframe tbody tr th:only-of-type {\n",
       "        vertical-align: middle;\n",
       "    }\n",
       "\n",
       "    .dataframe tbody tr th {\n",
       "        vertical-align: top;\n",
       "    }\n",
       "\n",
       "    .dataframe thead th {\n",
       "        text-align: right;\n",
       "    }\n",
       "</style>\n",
       "<table border=\"1\" class=\"dataframe\">\n",
       "  <thead>\n",
       "    <tr style=\"text-align: right;\">\n",
       "      <th></th>\n",
       "      <th>temp</th>\n",
       "      <th>rainfall</th>\n",
       "      <th>humidity</th>\n",
       "    </tr>\n",
       "  </thead>\n",
       "  <tbody>\n",
       "    <tr>\n",
       "      <th>count</th>\n",
       "      <td>10.000000</td>\n",
       "      <td>10.000000</td>\n",
       "      <td>10.000000</td>\n",
       "    </tr>\n",
       "    <tr>\n",
       "      <th>mean</th>\n",
       "      <td>84.400002</td>\n",
       "      <td>85.599998</td>\n",
       "      <td>54.400002</td>\n",
       "    </tr>\n",
       "    <tr>\n",
       "      <th>std</th>\n",
       "      <td>12.712199</td>\n",
       "      <td>32.031929</td>\n",
       "      <td>13.175735</td>\n",
       "    </tr>\n",
       "    <tr>\n",
       "      <th>min</th>\n",
       "      <td>69.000000</td>\n",
       "      <td>43.000000</td>\n",
       "      <td>37.000000</td>\n",
       "    </tr>\n",
       "    <tr>\n",
       "      <th>25%</th>\n",
       "      <td>73.000000</td>\n",
       "      <td>67.000000</td>\n",
       "      <td>43.000000</td>\n",
       "    </tr>\n",
       "    <tr>\n",
       "      <th>50%</th>\n",
       "      <td>87.000000</td>\n",
       "      <td>88.000000</td>\n",
       "      <td>58.000000</td>\n",
       "    </tr>\n",
       "    <tr>\n",
       "      <th>75%</th>\n",
       "      <td>91.000000</td>\n",
       "      <td>96.000000</td>\n",
       "      <td>64.000000</td>\n",
       "    </tr>\n",
       "    <tr>\n",
       "      <th>max</th>\n",
       "      <td>102.000000</td>\n",
       "      <td>134.000000</td>\n",
       "      <td>70.000000</td>\n",
       "    </tr>\n",
       "  </tbody>\n",
       "</table>\n",
       "</div>"
      ],
      "text/plain": [
       "             temp    rainfall   humidity\n",
       "count   10.000000   10.000000  10.000000\n",
       "mean    84.400002   85.599998  54.400002\n",
       "std     12.712199   32.031929  13.175735\n",
       "min     69.000000   43.000000  37.000000\n",
       "25%     73.000000   67.000000  43.000000\n",
       "50%     87.000000   88.000000  58.000000\n",
       "75%     91.000000   96.000000  64.000000\n",
       "max    102.000000  134.000000  70.000000"
      ]
     },
     "metadata": {},
     "execution_count": 6
    }
   ],
   "metadata": {}
  },
  {
   "cell_type": "code",
   "execution_count": 8,
   "source": [
    "normalizer = preprocessing.Normalization(axis = -1)"
   ],
   "outputs": [],
   "metadata": {}
  },
  {
   "cell_type": "code",
   "execution_count": 9,
   "source": [
    "normalizer.adapt(np.array(train_features))"
   ],
   "outputs": [],
   "metadata": {}
  },
  {
   "cell_type": "code",
   "execution_count": 10,
   "source": [
    "linear_model = tf.keras.Sequential([\r\n",
    "    normalizer,\r\n",
    "    layers.Dense(units = 1)\r\n",
    "])"
   ],
   "outputs": [],
   "metadata": {}
  },
  {
   "cell_type": "code",
   "execution_count": 11,
   "source": [
    "linear_model.predict(train_features[:9])"
   ],
   "outputs": [
    {
     "output_type": "execute_result",
     "data": {
      "text/plain": [
       "array([[-0.5529203],\n",
       "       [ 0.6692667],\n",
       "       [-1.5451211],\n",
       "       [ 3.2131448],\n",
       "       [-1.7843714],\n",
       "       [-0.5529203],\n",
       "       [ 0.6692667],\n",
       "       [-1.5451211],\n",
       "       [ 3.2131448]], dtype=float32)"
      ]
     },
     "metadata": {},
     "execution_count": 11
    }
   ],
   "metadata": {}
  },
  {
   "cell_type": "code",
   "execution_count": 12,
   "source": [
    "linear_model.compile(\r\n",
    "    optimizer=tf.optimizers.Adam(learning_rate = 0.1),\r\n",
    "    loss='mean_absolute_error')\r\n"
   ],
   "outputs": [],
   "metadata": {}
  },
  {
   "cell_type": "code",
   "execution_count": 13,
   "source": [
    "history = linear_model.fit(\r\n",
    "    train_features, train_label, \r\n",
    "    epochs = 1000,\r\n",
    "    verbose=0,\r\n",
    "    validation_split = 0.2)"
   ],
   "outputs": [],
   "metadata": {}
  },
  {
   "cell_type": "code",
   "execution_count": 14,
   "source": [
    "test_results = {}\r\n",
    "test_results['linear_model'] = linear_model.evaluate(\r\n",
    "    test_features, test_label, verbose = 0)\r\n",
    "\r\n",
    "test_results['linear_model']"
   ],
   "outputs": [
    {
     "output_type": "execute_result",
     "data": {
      "text/plain": [
       "0.8982299566268921"
      ]
     },
     "metadata": {},
     "execution_count": 14
    }
   ],
   "metadata": {}
  }
 ],
 "metadata": {
  "orig_nbformat": 4,
  "language_info": {
   "name": "python",
   "version": "3.8.8",
   "mimetype": "text/x-python",
   "codemirror_mode": {
    "name": "ipython",
    "version": 3
   },
   "pygments_lexer": "ipython3",
   "nbconvert_exporter": "python",
   "file_extension": ".py"
  },
  "kernelspec": {
   "name": "python3",
   "display_name": "Python 3.8.8 64-bit ('MFE': conda)"
  },
  "interpreter": {
   "hash": "6cd9a464138fc6ccabc335c6117ac38c085d16cbe40298286e63ec121b3c4a6a"
  }
 },
 "nbformat": 4,
 "nbformat_minor": 2
}