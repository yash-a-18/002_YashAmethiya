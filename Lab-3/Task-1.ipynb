{
 "cells": [
  {
   "cell_type": "markdown",
   "id": "following-alaska",
   "metadata": {},
   "source": [
    "### Task 1: Try the algo on Dataset1 - OneHotEncoding of features: and Train test Division 70%-30%"
   ]
  },
  {
   "cell_type": "code",
   "execution_count": 1,
   "id": "informative-bracket",
   "metadata": {},
   "outputs": [],
   "source": [
    "import pandas as pd\n",
    "import numpy as np\n",
    "import matplotlib.pyplot as plt\n",
    "from sklearn.preprocessing import OneHotEncoder\n",
    "from sklearn.naive_bayes import GaussianNB\n",
    "from sklearn.model_selection import train_test_split\n",
    "from sklearn.metrics import accuracy_score, confusion_matrix, precision_score, recall_score"
   ]
  },
  {
   "cell_type": "code",
   "execution_count": 2,
   "id": "mechanical-simpson",
   "metadata": {},
   "outputs": [
    {
     "name": "stdout",
     "output_type": "stream",
     "text": [
      "Number of examples and feature: (14, 5)\n"
     ]
    },
    {
     "data": {
      "text/html": [
       "<div>\n",
       "<style scoped>\n",
       "    .dataframe tbody tr th:only-of-type {\n",
       "        vertical-align: middle;\n",
       "    }\n",
       "\n",
       "    .dataframe tbody tr th {\n",
       "        vertical-align: top;\n",
       "    }\n",
       "\n",
       "    .dataframe thead th {\n",
       "        text-align: right;\n",
       "    }\n",
       "</style>\n",
       "<table border=\"1\" class=\"dataframe\">\n",
       "  <thead>\n",
       "    <tr style=\"text-align: right;\">\n",
       "      <th></th>\n",
       "      <th>Outlook</th>\n",
       "      <th>Temp</th>\n",
       "      <th>Humidity</th>\n",
       "      <th>Wind</th>\n",
       "      <th>Play</th>\n",
       "    </tr>\n",
       "  </thead>\n",
       "  <tbody>\n",
       "    <tr>\n",
       "      <th>0</th>\n",
       "      <td>R</td>\n",
       "      <td>H</td>\n",
       "      <td>Normal</td>\n",
       "      <td>F</td>\n",
       "      <td>N</td>\n",
       "    </tr>\n",
       "    <tr>\n",
       "      <th>1</th>\n",
       "      <td>R</td>\n",
       "      <td>H</td>\n",
       "      <td>High</td>\n",
       "      <td>T</td>\n",
       "      <td>N</td>\n",
       "    </tr>\n",
       "    <tr>\n",
       "      <th>2</th>\n",
       "      <td>O</td>\n",
       "      <td>H</td>\n",
       "      <td>Normal</td>\n",
       "      <td>F</td>\n",
       "      <td>Y</td>\n",
       "    </tr>\n",
       "    <tr>\n",
       "      <th>3</th>\n",
       "      <td>S</td>\n",
       "      <td>M</td>\n",
       "      <td>Normal</td>\n",
       "      <td>F</td>\n",
       "      <td>Y</td>\n",
       "    </tr>\n",
       "    <tr>\n",
       "      <th>4</th>\n",
       "      <td>S</td>\n",
       "      <td>C</td>\n",
       "      <td>Normal</td>\n",
       "      <td>F</td>\n",
       "      <td>Y</td>\n",
       "    </tr>\n",
       "  </tbody>\n",
       "</table>\n",
       "</div>"
      ],
      "text/plain": [
       "  Outlook Temp Humidity Wind Play\n",
       "0       R    H   Normal    F    N\n",
       "1       R    H     High    T    N\n",
       "2       O    H   Normal    F    Y\n",
       "3       S    M   Normal    F    Y\n",
       "4       S    C   Normal    F    Y"
      ]
     },
     "execution_count": 2,
     "metadata": {},
     "output_type": "execute_result"
    }
   ],
   "source": [
    "dataset = pd.read_csv(r\"./PracticeDataSets/Dataset1.csv\")\n",
    "print(\"Number of examples and feature:\", dataset.shape)\n",
    "dataset.head()"
   ]
  },
  {
   "cell_type": "code",
   "execution_count": 3,
   "id": "sized-calculation",
   "metadata": {},
   "outputs": [
    {
     "name": "stdout",
     "output_type": "stream",
     "text": [
      "<class 'pandas.core.frame.DataFrame'>\n",
      "RangeIndex: 14 entries, 0 to 13\n",
      "Data columns (total 5 columns):\n",
      " #   Column    Non-Null Count  Dtype \n",
      "---  ------    --------------  ----- \n",
      " 0   Outlook   14 non-null     object\n",
      " 1   Temp      14 non-null     object\n",
      " 2   Humidity  14 non-null     object\n",
      " 3   Wind      14 non-null     object\n",
      " 4   Play      14 non-null     object\n",
      "dtypes: object(5)\n",
      "memory usage: 688.0+ bytes\n"
     ]
    }
   ],
   "source": [
    "dataset.info()"
   ]
  },
  {
   "cell_type": "code",
   "execution_count": 4,
   "id": "prostate-background",
   "metadata": {},
   "outputs": [
    {
     "data": {
      "text/html": [
       "<div>\n",
       "<style scoped>\n",
       "    .dataframe tbody tr th:only-of-type {\n",
       "        vertical-align: middle;\n",
       "    }\n",
       "\n",
       "    .dataframe tbody tr th {\n",
       "        vertical-align: top;\n",
       "    }\n",
       "\n",
       "    .dataframe thead th {\n",
       "        text-align: right;\n",
       "    }\n",
       "</style>\n",
       "<table border=\"1\" class=\"dataframe\">\n",
       "  <thead>\n",
       "    <tr style=\"text-align: right;\">\n",
       "      <th></th>\n",
       "      <th>Outlook</th>\n",
       "      <th>Temp</th>\n",
       "      <th>Humidity</th>\n",
       "      <th>Wind</th>\n",
       "      <th>Play</th>\n",
       "    </tr>\n",
       "  </thead>\n",
       "  <tbody>\n",
       "    <tr>\n",
       "      <th>count</th>\n",
       "      <td>14</td>\n",
       "      <td>14</td>\n",
       "      <td>14</td>\n",
       "      <td>14</td>\n",
       "      <td>14</td>\n",
       "    </tr>\n",
       "    <tr>\n",
       "      <th>unique</th>\n",
       "      <td>3</td>\n",
       "      <td>3</td>\n",
       "      <td>3</td>\n",
       "      <td>2</td>\n",
       "      <td>2</td>\n",
       "    </tr>\n",
       "    <tr>\n",
       "      <th>top</th>\n",
       "      <td>R</td>\n",
       "      <td>M</td>\n",
       "      <td>Normal</td>\n",
       "      <td>F</td>\n",
       "      <td>Y</td>\n",
       "    </tr>\n",
       "    <tr>\n",
       "      <th>freq</th>\n",
       "      <td>5</td>\n",
       "      <td>6</td>\n",
       "      <td>8</td>\n",
       "      <td>8</td>\n",
       "      <td>9</td>\n",
       "    </tr>\n",
       "  </tbody>\n",
       "</table>\n",
       "</div>"
      ],
      "text/plain": [
       "       Outlook Temp Humidity Wind Play\n",
       "count       14   14       14   14   14\n",
       "unique       3    3        3    2    2\n",
       "top          R    M   Normal    F    Y\n",
       "freq         5    6        8    8    9"
      ]
     },
     "execution_count": 4,
     "metadata": {},
     "output_type": "execute_result"
    }
   ],
   "source": [
    "dataset.describe()"
   ]
  },
  {
   "cell_type": "code",
   "execution_count": 5,
   "id": "classical-bones",
   "metadata": {},
   "outputs": [
    {
     "name": "stdout",
     "output_type": "stream",
     "text": [
      "\u001b[1mUnique Outlook values: \u001b[0;0m ['R' 'O' 'S']\n",
      "\u001b[1m\n",
      "Unique Temperature values: \u001b[0;0m ['H' 'M' 'C']\n",
      "\u001b[1m\n",
      "Unique Humidity values: \u001b[0;0m ['Normal' 'High' 'Low']\n",
      "\u001b[1m\n",
      "Unique Wind values: \u001b[0;0m ['F' 'T']\n",
      "\u001b[1m\n",
      "Unique Play values \u001b[91m (Class Label): \u001b[0;0m ['N' 'Y']\n"
     ]
    }
   ],
   "source": [
    "start = \"\\033[1m\"\n",
    "end = \"\\033[0;0m\"\n",
    "\n",
    "print(start + \"Unique Outlook values: \" + end, dataset['Outlook'].unique())\n",
    "\n",
    "print(start + \"\\nUnique Temperature values: \" + end, dataset['Temp'].unique())\n",
    "\n",
    "print(start + \"\\nUnique Humidity values: \" + end, dataset['Humidity'].unique())\n",
    "\n",
    "print(start + \"\\nUnique Wind values: \" + end, dataset['Wind'].unique())\n",
    "\n",
    "print(start + \"\\nUnique Play values \" + \"\\033[91m (Class Label): \" + end, dataset['Play'].unique())"
   ]
  },
  {
   "cell_type": "code",
   "execution_count": 6,
   "id": "respiratory-demographic",
   "metadata": {},
   "outputs": [
    {
     "data": {
      "image/png": "[encoded data removed]",
      "text/plain": [
       "<Figure size 432x288 with 1 Axes>"
      ]
     },
     "metadata": {},
     "output_type": "display_data"
    }
   ],
   "source": [
    "pie_chart = dataset['Play'].value_counts().plot.pie(autopct = \"%1.1f%%\", radius = 2, startangle = 90)\n",
    "pie_chart.set_ylabel('')\n",
    "plt.show()"
   ]
  },
  {
   "cell_type": "code",
   "execution_count": 7,
   "id": "exceptional-globe",
   "metadata": {},
   "outputs": [],
   "source": [
    "dummy = pd.get_dummies(dataset.iloc[:,:-1])\n",
    "\n",
    "cols = dataset.columns.tolist()\n",
    "cols.remove(\"Play\")\n",
    "\n",
    "dataset = dataset.drop(cols, axis = 1)\n",
    "dataset = pd.concat([dummy,dataset], axis = 1)"
   ]
  },
  {
   "cell_type": "code",
   "execution_count": 8,
   "id": "chicken-singapore",
   "metadata": {},
   "outputs": [],
   "source": [
    "# print(\"\\n\\nDummy :\\n\")\n",
    "# dummy.head()"
   ]
  },
  {
   "cell_type": "code",
   "execution_count": 9,
   "id": "chinese-video",
   "metadata": {},
   "outputs": [
    {
     "name": "stdout",
     "output_type": "stream",
     "text": [
      "\n",
      "\n",
      "Final dataset :\n",
      "\n"
     ]
    },
    {
     "data": {
      "text/html": [
       "<div>\n",
       "<style scoped>\n",
       "    .dataframe tbody tr th:only-of-type {\n",
       "        vertical-align: middle;\n",
       "    }\n",
       "\n",
       "    .dataframe tbody tr th {\n",
       "        vertical-align: top;\n",
       "    }\n",
       "\n",
       "    .dataframe thead th {\n",
       "        text-align: right;\n",
       "    }\n",
       "</style>\n",
       "<table border=\"1\" class=\"dataframe\">\n",
       "  <thead>\n",
       "    <tr style=\"text-align: right;\">\n",
       "      <th></th>\n",
       "      <th>Outlook_O</th>\n",
       "      <th>Outlook_R</th>\n",
       "      <th>Outlook_S</th>\n",
       "      <th>Temp_C</th>\n",
       "      <th>Temp_H</th>\n",
       "      <th>Temp_M</th>\n",
       "      <th>Humidity_High</th>\n",
       "      <th>Humidity_Low</th>\n",
       "      <th>Humidity_Normal</th>\n",
       "      <th>Wind_F</th>\n",
       "      <th>Wind_T</th>\n",
       "      <th>Play</th>\n",
       "    </tr>\n",
       "  </thead>\n",
       "  <tbody>\n",
       "    <tr>\n",
       "      <th>0</th>\n",
       "      <td>0</td>\n",
       "      <td>1</td>\n",
       "      <td>0</td>\n",
       "      <td>0</td>\n",
       "      <td>1</td>\n",
       "      <td>0</td>\n",
       "      <td>0</td>\n",
       "      <td>0</td>\n",
       "      <td>1</td>\n",
       "      <td>1</td>\n",
       "      <td>0</td>\n",
       "      <td>N</td>\n",
       "    </tr>\n",
       "    <tr>\n",
       "      <th>1</th>\n",
       "      <td>0</td>\n",
       "      <td>1</td>\n",
       "      <td>0</td>\n",
       "      <td>0</td>\n",
       "      <td>1</td>\n",
       "      <td>0</td>\n",
       "      <td>1</td>\n",
       "      <td>0</td>\n",
       "      <td>0</td>\n",
       "      <td>0</td>\n",
       "      <td>1</td>\n",
       "      <td>N</td>\n",
       "    </tr>\n",
       "    <tr>\n",
       "      <th>2</th>\n",
       "      <td>1</td>\n",
       "      <td>0</td>\n",
       "      <td>0</td>\n",
       "      <td>0</td>\n",
       "      <td>1</td>\n",
       "      <td>0</td>\n",
       "      <td>0</td>\n",
       "      <td>0</td>\n",
       "      <td>1</td>\n",
       "      <td>1</td>\n",
       "      <td>0</td>\n",
       "      <td>Y</td>\n",
       "    </tr>\n",
       "    <tr>\n",
       "      <th>3</th>\n",
       "      <td>0</td>\n",
       "      <td>0</td>\n",
       "      <td>1</td>\n",
       "      <td>0</td>\n",
       "      <td>0</td>\n",
       "      <td>1</td>\n",
       "      <td>0</td>\n",
       "      <td>0</td>\n",
       "      <td>1</td>\n",
       "      <td>1</td>\n",
       "      <td>0</td>\n",
       "      <td>Y</td>\n",
       "    </tr>\n",
       "    <tr>\n",
       "      <th>4</th>\n",
       "      <td>0</td>\n",
       "      <td>0</td>\n",
       "      <td>1</td>\n",
       "      <td>1</td>\n",
       "      <td>0</td>\n",
       "      <td>0</td>\n",
       "      <td>0</td>\n",
       "      <td>0</td>\n",
       "      <td>1</td>\n",
       "      <td>1</td>\n",
       "      <td>0</td>\n",
       "      <td>Y</td>\n",
       "    </tr>\n",
       "  </tbody>\n",
       "</table>\n",
       "</div>"
      ],
      "text/plain": [
       "   Outlook_O  Outlook_R  Outlook_S  Temp_C  Temp_H  Temp_M  Humidity_High  \\\n",
       "0          0          1          0       0       1       0              0   \n",
       "1          0          1          0       0       1       0              1   \n",
       "2          1          0          0       0       1       0              0   \n",
       "3          0          0          1       0       0       1              0   \n",
       "4          0          0          1       1       0       0              0   \n",
       "\n",
       "   Humidity_Low  Humidity_Normal  Wind_F  Wind_T Play  \n",
       "0             0                1       1       0    N  \n",
       "1             0                0       0       1    N  \n",
       "2             0                1       1       0    Y  \n",
       "3             0                1       1       0    Y  \n",
       "4             0                1       1       0    Y  "
      ]
     },
     "execution_count": 9,
     "metadata": {},
     "output_type": "execute_result"
    }
   ],
   "source": [
    "print(\"\\n\\nFinal dataset :\\n\")\n",
    "dataset.head()"
   ]
  },
  {
   "cell_type": "code",
   "execution_count": 10,
   "id": "russian-principal",
   "metadata": {},
   "outputs": [
    {
     "name": "stdout",
     "output_type": "stream",
     "text": [
      "\n",
      "Label\n",
      "\n",
      "\n"
     ]
    },
    {
     "data": {
      "text/plain": [
       "0     N\n",
       "1     N\n",
       "2     Y\n",
       "3     Y\n",
       "4     Y\n",
       "5     N\n",
       "6     Y\n",
       "7     N\n",
       "8     Y\n",
       "9     Y\n",
       "10    Y\n",
       "11    Y\n",
       "12    Y\n",
       "13    N\n",
       "Name: Play, dtype: object"
      ]
     },
     "execution_count": 10,
     "metadata": {},
     "output_type": "execute_result"
    }
   ],
   "source": [
    "print(\"\\nLabel\\n\\n\")\n",
    "labels = dataset['Play']\n",
    "labels"
   ]
  },
  {
   "cell_type": "code",
   "execution_count": 11,
   "id": "artificial-cooler",
   "metadata": {},
   "outputs": [],
   "source": [
    "#split data set into train and test sets\n",
    "data_train, data_test, target_train, target_test = train_test_split(dataset.iloc[:,:-1],\n",
    "                        labels, test_size = 0.30, random_state = 2)\n",
    "# set Random state of model equals to your roll number"
   ]
  },
  {
   "cell_type": "code",
   "execution_count": 12,
   "id": "authorized-invention",
   "metadata": {},
   "outputs": [
    {
     "data": {
      "text/plain": [
       "GaussianNB()"
      ]
     },
     "execution_count": 12,
     "metadata": {},
     "output_type": "execute_result"
    }
   ],
   "source": [
    "# creating intsance\n",
    "gnb = GaussianNB()\n",
    "\n",
    "# fitting the model or training\n",
    "gnb.fit(data_train,target_train)"
   ]
  },
  {
   "cell_type": "code",
   "execution_count": 13,
   "id": "northern-foundation",
   "metadata": {},
   "outputs": [],
   "source": [
    "# testing\n",
    "target_predict = gnb.predict(data_test)"
   ]
  },
  {
   "cell_type": "code",
   "execution_count": 14,
   "id": "contemporary-young",
   "metadata": {},
   "outputs": [
    {
     "name": "stdout",
     "output_type": "stream",
     "text": [
      "Accuracy: 0.6\n"
     ]
    }
   ],
   "source": [
    "# Accuracy\n",
    "Accuracy = accuracy_score(target_test, target_predict)\n",
    "print(\"Accuracy:\", Accuracy)"
   ]
  },
  {
   "cell_type": "code",
   "execution_count": 15,
   "id": "extensive-kenya",
   "metadata": {},
   "outputs": [
    {
     "name": "stdout",
     "output_type": "stream",
     "text": [
      "Confusion Matrix:\n",
      "\n"
     ]
    },
    {
     "data": {
      "text/plain": [
       "array([[1, 1],\n",
       "       [1, 2]], dtype=int64)"
      ]
     },
     "execution_count": 15,
     "metadata": {},
     "output_type": "execute_result"
    }
   ],
   "source": [
    "# Confusion Matrix\n",
    "cm = confusion_matrix(target_test, target_predict)\n",
    "print(\"Confusion Matrix:\\n\")\n",
    "cm"
   ]
  },
  {
   "cell_type": "code",
   "execution_count": 16,
   "id": "structural-awareness",
   "metadata": {},
   "outputs": [
    {
     "name": "stdout",
     "output_type": "stream",
     "text": [
      "Precision:\n",
      "\n"
     ]
    },
    {
     "data": {
      "text/plain": [
       "array([0.5       , 0.66666667])"
      ]
     },
     "execution_count": 16,
     "metadata": {},
     "output_type": "execute_result"
    }
   ],
   "source": [
    "# Precision\n",
    "precision = precision_score(target_test, target_predict, average=None)\n",
    "print(\"Precision:\\n\")\n",
    "precision"
   ]
  },
  {
   "cell_type": "code",
   "execution_count": 17,
   "id": "automated-transcript",
   "metadata": {},
   "outputs": [
    {
     "name": "stdout",
     "output_type": "stream",
     "text": [
      "Recall:\n",
      "\n"
     ]
    },
    {
     "data": {
      "text/plain": [
       "array([0.5       , 0.66666667])"
      ]
     },
     "execution_count": 17,
     "metadata": {},
     "output_type": "execute_result"
    }
   ],
   "source": [
    "# Recall\n",
    "recall = recall_score(target_test, target_predict, average=None)\n",
    "print(\"Recall:\\n\")\n",
    "recall"
   ]
  },
  {
   "cell_type": "markdown",
   "id": "inner-greeting",
   "metadata": {},
   "source": [
    "**(1) What will be the value of Play, if Outlook is ’Rainy’, Temperature is ’Mild’, Humidity =’Normal’, and Wind = ’False’?**"
   ]
  },
  {
   "cell_type": "code",
   "execution_count": 18,
   "id": "governing-marking",
   "metadata": {},
   "outputs": [],
   "source": [
    "'''\n",
    "Rainy = 0,1,0\n",
    "Mild = 0,0,1\n",
    "Normal = 0,0,1\n",
    "False = 1,0\n",
    "'''\n",
    "q1 = [0,1,0,0,0,1,0,0,1,1,0]"
   ]
  },
  {
   "cell_type": "markdown",
   "id": "accredited-darwin",
   "metadata": {},
   "source": [
    "**(2) What will be the value of Play, if Outlook is ’Sunny’, Temeprature is ’Cool’, Humidity =’High’, and Wind = ’True’?**"
   ]
  },
  {
   "cell_type": "code",
   "execution_count": 19,
   "id": "elder-benefit",
   "metadata": {},
   "outputs": [],
   "source": [
    "'''\n",
    "Sunny = 0,0,1\n",
    "Cool = 1,0,0\n",
    "High = 1,0,0\n",
    "True = 0,1\n",
    "'''\n",
    "q2 = [0,0,1,1,0,0,1,0,0,0,1]"
   ]
  },
  {
   "cell_type": "code",
   "execution_count": 20,
   "id": "retired-surname",
   "metadata": {},
   "outputs": [
    {
     "data": {
      "text/html": [
       "<div>\n",
       "<style scoped>\n",
       "    .dataframe tbody tr th:only-of-type {\n",
       "        vertical-align: middle;\n",
       "    }\n",
       "\n",
       "    .dataframe tbody tr th {\n",
       "        vertical-align: top;\n",
       "    }\n",
       "\n",
       "    .dataframe thead th {\n",
       "        text-align: right;\n",
       "    }\n",
       "</style>\n",
       "<table border=\"1\" class=\"dataframe\">\n",
       "  <thead>\n",
       "    <tr style=\"text-align: right;\">\n",
       "      <th></th>\n",
       "      <th>Outlook_O</th>\n",
       "      <th>Outlook_R</th>\n",
       "      <th>Outlook_S</th>\n",
       "      <th>Temp_C</th>\n",
       "      <th>Temp_H</th>\n",
       "      <th>Temp_M</th>\n",
       "      <th>Humidity_High</th>\n",
       "      <th>Humidity_Low</th>\n",
       "      <th>Humidity_Normal</th>\n",
       "      <th>Wind_F</th>\n",
       "      <th>Wind_T</th>\n",
       "    </tr>\n",
       "  </thead>\n",
       "  <tbody>\n",
       "    <tr>\n",
       "      <th>0</th>\n",
       "      <td>0</td>\n",
       "      <td>1</td>\n",
       "      <td>0</td>\n",
       "      <td>0</td>\n",
       "      <td>0</td>\n",
       "      <td>1</td>\n",
       "      <td>0</td>\n",
       "      <td>0</td>\n",
       "      <td>1</td>\n",
       "      <td>1</td>\n",
       "      <td>0</td>\n",
       "    </tr>\n",
       "    <tr>\n",
       "      <th>1</th>\n",
       "      <td>0</td>\n",
       "      <td>0</td>\n",
       "      <td>1</td>\n",
       "      <td>1</td>\n",
       "      <td>0</td>\n",
       "      <td>0</td>\n",
       "      <td>1</td>\n",
       "      <td>0</td>\n",
       "      <td>0</td>\n",
       "      <td>0</td>\n",
       "      <td>1</td>\n",
       "    </tr>\n",
       "  </tbody>\n",
       "</table>\n",
       "</div>"
      ],
      "text/plain": [
       "   Outlook_O  Outlook_R  Outlook_S  Temp_C  Temp_H  Temp_M  Humidity_High  \\\n",
       "0          0          1          0       0       0       1              0   \n",
       "1          0          0          1       1       0       0              1   \n",
       "\n",
       "   Humidity_Low  Humidity_Normal  Wind_F  Wind_T  \n",
       "0             0                1       1       0  \n",
       "1             0                0       0       1  "
      ]
     },
     "execution_count": 20,
     "metadata": {},
     "output_type": "execute_result"
    }
   ],
   "source": [
    "features = dataset.columns.tolist()\n",
    "features.remove(\"Play\")\n",
    "df = pd.DataFrame([q1,q2], columns = features)\n",
    "df.head()"
   ]
  },
  {
   "cell_type": "code",
   "execution_count": 21,
   "id": "national-theater",
   "metadata": {},
   "outputs": [
    {
     "name": "stdout",
     "output_type": "stream",
     "text": [
      "Play predicted:\n",
      "q1: N\n",
      "q2: Y\n"
     ]
    }
   ],
   "source": [
    "ans = gnb.predict(df)\n",
    "print(\"Play predicted:\\nq1: {}\\nq2: {}\".format(ans[0],ans[1]))"
   ]
  }
 ],
 "metadata": {
  "kernelspec": {
   "display_name": "Python 3",
   "language": "python",
   "name": "python3"
  },
  "language_info": {
   "codemirror_mode": {
    "name": "ipython",
    "version": 3
   },
   "file_extension": ".py",
   "mimetype": "text/x-python",
   "name": "python",
   "nbconvert_exporter": "python",
   "pygments_lexer": "ipython3",
   "version": "3.8.8"
  }
 },
 "nbformat": 4,
 "nbformat_minor": 5
}
