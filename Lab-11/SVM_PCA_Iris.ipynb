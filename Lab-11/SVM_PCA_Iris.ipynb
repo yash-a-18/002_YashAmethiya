{
 "cells": [
  {
   "cell_type": "markdown",
   "source": [
    "## Perform SVM with PCA operation on Iris Dataset."
   ],
   "metadata": {}
  },
  {
   "cell_type": "code",
   "execution_count": 1,
   "source": [
    "%matplotlib inline\r\n",
    "import pandas as pd\r\n",
    "from sklearn import datasets\r\n",
    "from sklearn.decomposition import PCA\r\n",
    "from sklearn import svm,decomposition\r\n",
    "\r\n",
    "iris = datasets.load_iris() #loading the dataset\r\n",
    "iris.target_names"
   ],
   "outputs": [
    {
     "output_type": "execute_result",
     "data": {
      "text/plain": [
       "array(['setosa', 'versicolor', 'virginica'], dtype='<U10')"
      ]
     },
     "metadata": {},
     "execution_count": 1
    }
   ],
   "metadata": {}
  },
  {
   "cell_type": "code",
   "execution_count": 2,
   "source": [
    "from sklearn.model_selection import train_test_split\r\n",
    "X_train, X_test, y_train, y_test = train_test_split(iris.data,iris.target, random_state=2)\r\n",
    "\r\n",
    "print(X_train.shape, X_test.shape)"
   ],
   "outputs": [
    {
     "output_type": "stream",
     "name": "stdout",
     "text": [
      "(112, 4) (38, 4)\n"
     ]
    }
   ],
   "metadata": {}
  },
  {
   "cell_type": "code",
   "execution_count": 3,
   "source": [
    "pca = decomposition.PCA(n_components=3, whiten=True)\r\n",
    "pca.fit(X_train)"
   ],
   "outputs": [
    {
     "output_type": "execute_result",
     "data": {
      "text/plain": [
       "PCA(n_components=3, whiten=True)"
      ]
     },
     "metadata": {},
     "execution_count": 3
    }
   ],
   "metadata": {}
  },
  {
   "cell_type": "code",
   "execution_count": 4,
   "source": [
    "X_train_pca = pca.transform(X_train)\r\n",
    "X_test_pca = pca.transform(X_test)\r\n",
    "print(X_train_pca.shape)\r\n",
    "\r\n",
    "clf = svm.SVC(C=3., gamma=0.001)\r\n",
    "clf.fit(X_train_pca, y_train)"
   ],
   "outputs": [
    {
     "output_type": "stream",
     "name": "stdout",
     "text": [
      "(112, 3)\n"
     ]
    },
    {
     "output_type": "execute_result",
     "data": {
      "text/plain": [
       "SVC(C=3.0, gamma=0.001)"
      ]
     },
     "metadata": {},
     "execution_count": 4
    }
   ],
   "metadata": {}
  },
  {
   "cell_type": "code",
   "execution_count": 5,
   "source": [
    "from sklearn import metrics\r\n",
    "y_pred = clf.predict(X_test_pca) #prediction\r\n",
    "\r\n",
    "print(metrics.classification_report(y_test, y_pred))"
   ],
   "outputs": [
    {
     "output_type": "stream",
     "name": "stdout",
     "text": [
      "              precision    recall  f1-score   support\n",
      "\n",
      "           0       1.00      0.19      0.32        16\n",
      "           1       0.35      0.73      0.47        11\n",
      "           2       0.75      0.82      0.78        11\n",
      "\n",
      "    accuracy                           0.53        38\n",
      "   macro avg       0.70      0.58      0.52        38\n",
      "weighted avg       0.74      0.53      0.50        38\n",
      "\n"
     ]
    }
   ],
   "metadata": {}
  },
  {
   "cell_type": "code",
   "execution_count": 6,
   "source": [
    "from sklearn.pipeline import Pipeline\r\n",
    "clf = Pipeline([('pca', decomposition.PCA(n_components=3, whiten=True)), ('svm', svm.LinearSVC(C=3.0))])\r\n",
    "\r\n",
    "clf.fit(X_train, y_train)\r\n",
    "\r\n",
    "y_pred = clf.predict(X_test)\r\n",
    "print(metrics.confusion_matrix(y_pred, y_test))"
   ],
   "outputs": [
    {
     "output_type": "stream",
     "name": "stdout",
     "text": [
      "[[15  0  0]\n",
      " [ 1  8  0]\n",
      " [ 0  3 11]]\n"
     ]
    }
   ],
   "metadata": {}
  }
 ],
 "metadata": {
  "orig_nbformat": 4,
  "language_info": {
   "name": "python",
   "version": "3.8.8",
   "mimetype": "text/x-python",
   "codemirror_mode": {
    "name": "ipython",
    "version": 3
   },
   "pygments_lexer": "ipython3",
   "nbconvert_exporter": "python",
   "file_extension": ".py"
  },
  "kernelspec": {
   "name": "python3",
   "display_name": "Python 3.8.8 64-bit ('MFE': conda)"
  },
  "interpreter": {
   "hash": "6cd9a464138fc6ccabc335c6117ac38c085d16cbe40298286e63ec121b3c4a6a"
  }
 },
 "nbformat": 4,
 "nbformat_minor": 2
}