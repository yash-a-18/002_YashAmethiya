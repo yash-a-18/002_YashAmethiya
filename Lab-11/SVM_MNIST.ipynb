{
 "cells": [
  {
   "cell_type": "markdown",
   "source": [
    "## Try SVM classifier on MNIST dataset, compare the preformance of linear, polynomial and RBF kernels."
   ],
   "metadata": {}
  },
  {
   "cell_type": "code",
   "execution_count": 2,
   "source": [
    "import sys, os\r\n",
    "import matplotlib.pyplot as plt\r\n",
    "from sklearn import svm\r\n",
    "from sklearn.model_selection import train_test_split\r\n",
    "import numpy as np"
   ],
   "outputs": [],
   "metadata": {}
  },
  {
   "cell_type": "code",
   "execution_count": 3,
   "source": [
    "from sklearn.datasets import load_digits\r\n",
    "\r\n",
    "digits = load_digits()\r\n",
    "\r\n",
    "X_train, X_test, y_train, y_test = train_test_split(digits.data, digits.target, test_size = 0.3, train_size = 0.2 ,random_state = 2)"
   ],
   "outputs": [],
   "metadata": {}
  },
  {
   "cell_type": "markdown",
   "source": [
    "## Linear Model"
   ],
   "metadata": {}
  },
  {
   "cell_type": "code",
   "execution_count": 4,
   "source": [
    "linear_clf = svm.SVC(kernel='linear')\r\n",
    "linear_clf.fit(X_train, y_train) #training\r\n",
    "\r\n",
    "# predict\r\n",
    "y_pred = linear_clf.predict(X_test)"
   ],
   "outputs": [],
   "metadata": {}
  },
  {
   "cell_type": "code",
   "execution_count": 5,
   "source": [
    "from sklearn import metrics\r\n",
    "\r\n",
    "# accuracy\r\n",
    "print(\"Accuracy:\", metrics.accuracy_score(y_true=y_test, y_pred=y_pred), \"\\n\")"
   ],
   "outputs": [
    {
     "output_type": "stream",
     "name": "stdout",
     "text": [
      "Accuracy: 0.9425925925925925 \n",
      "\n"
     ]
    }
   ],
   "metadata": {}
  },
  {
   "cell_type": "markdown",
   "source": [
    "## Polynomial Model"
   ],
   "metadata": {}
  },
  {
   "cell_type": "code",
   "execution_count": 6,
   "source": [
    "poly_clf = svm.SVC(kernel='poly')\r\n",
    "poly_clf.fit(X_train, y_train) #training\r\n",
    "\r\n",
    "# predict\r\n",
    "y_pred = poly_clf.predict(X_test)"
   ],
   "outputs": [],
   "metadata": {}
  },
  {
   "cell_type": "code",
   "execution_count": 7,
   "source": [
    "# accuracy\r\n",
    "print(\"Accuracy:\", metrics.accuracy_score(y_true=y_test, y_pred=y_pred), \"\\n\")"
   ],
   "outputs": [
    {
     "output_type": "stream",
     "name": "stdout",
     "text": [
      "Accuracy: 0.9444444444444444 \n",
      "\n"
     ]
    }
   ],
   "metadata": {}
  },
  {
   "cell_type": "markdown",
   "source": [
    "## RBF Model"
   ],
   "metadata": {}
  },
  {
   "cell_type": "code",
   "execution_count": 8,
   "source": [
    "rbf_clf = svm.SVC(kernel='rbf') \r\n",
    "rbf_clf.fit(X_train, y_train) #training\r\n",
    "\r\n",
    "# predict\r\n",
    "y_pred = rbf_clf.predict(X_test)"
   ],
   "outputs": [],
   "metadata": {}
  },
  {
   "cell_type": "code",
   "execution_count": 9,
   "source": [
    "# accuracy\r\n",
    "print(\"Accuracy:\", metrics.accuracy_score(y_true=y_test, y_pred=y_pred), \"\\n\")"
   ],
   "outputs": [
    {
     "output_type": "stream",
     "name": "stdout",
     "text": [
      "Accuracy: 0.9351851851851852 \n",
      "\n"
     ]
    }
   ],
   "metadata": {}
  }
 ],
 "metadata": {
  "orig_nbformat": 4,
  "language_info": {
   "name": "python",
   "version": "3.8.8",
   "mimetype": "text/x-python",
   "codemirror_mode": {
    "name": "ipython",
    "version": 3
   },
   "pygments_lexer": "ipython3",
   "nbconvert_exporter": "python",
   "file_extension": ".py"
  },
  "kernelspec": {
   "name": "python3",
   "display_name": "Python 3.8.8 64-bit ('MFE': conda)"
  },
  "interpreter": {
   "hash": "6cd9a464138fc6ccabc335c6117ac38c085d16cbe40298286e63ec121b3c4a6a"
  }
 },
 "nbformat": 4,
 "nbformat_minor": 2
}